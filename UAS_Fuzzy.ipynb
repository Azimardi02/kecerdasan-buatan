{
 "cells": [
  {
   "cell_type": "code",
   "execution_count": 5,
   "id": "0ad716b8-12b1-48b5-9059-8989c57f3108",
   "metadata": {},
   "outputs": [
    {
     "name": "stdout",
     "output_type": "stream",
     "text": [
      "Kelayakan Kredit: 51%\n"
     ]
    }
   ],
   "source": [
    "class Fuzzy():\n",
    "    def __init__(self):\n",
    "        self.min = 0\n",
    "        self.max = 0\n",
    "\n",
    "    def down(self, x):\n",
    "        return (self.max - x) / (self.max - self.min)\n",
    "\n",
    "    def up(self, x):\n",
    "        return (x - self.min) / (self.max - self.min)\n",
    "\n",
    "    def rev_down(self, f):\n",
    "        return self.max - f * (self.max - self.min)\n",
    "\n",
    "    def rev_up(self, f):\n",
    "        return f * (self.max - self.min) + self.min"
   ]
  },
  {
   "cell_type": "code",
   "execution_count": 9,
   "id": "3b8f9773-d67d-4bf1-a511-d06072d72b61",
   "metadata": {},
   "outputs": [],
   "source": [
    "class Income(Fuzzy):\n",
    "    def __init__(self):\n",
    "        self.min = 1000\n",
    "        self.max = 10000\n",
    "\n",
    "    def low(self, x):\n",
    "        if x < self.min:\n",
    "            return 1\n",
    "        if x > self.max:\n",
    "            return 0\n",
    "        return self.down(x)\n",
    "\n",
    "    def medium(self, x):\n",
    "        if x < self.min:\n",
    "            return 0\n",
    "        if x > self.max:\n",
    "            return 1\n",
    "        return self.up(x)\n",
    "\n",
    "    def high(self, x):\n",
    "        if x < self.min:\n",
    "            return 0\n",
    "        if x > self.max:\n",
    "            return 1\n",
    "        return self.up(x)"
   ]
  },
  {
   "cell_type": "code",
   "execution_count": 10,
   "id": "20034a08-8156-4f51-9c61-d5cfbd01dc01",
   "metadata": {},
   "outputs": [],
   "source": [
    "class Debt(Fuzzy):\n",
    "    def __init__(self):\n",
    "        self.min = 0\n",
    "        self.max = 10000\n",
    "\n",
    "    def low(self, x):\n",
    "        if x < self.min:\n",
    "            return 1\n",
    "        if x > self.max:\n",
    "            return 0\n",
    "        return self.down(x)\n",
    "\n",
    "    def medium(self, x):\n",
    "        if x < self.min:\n",
    "            return 0\n",
    "        if x > self.max:\n",
    "            return 1\n",
    "        return self.up(x)\n",
    "\n",
    "    def high(self, x):\n",
    "        if x < self.min:\n",
    "            return 0\n",
    "        if x > self.max:\n",
    "            return 1\n",
    "        return self.up(x)"
   ]
  },
  {
   "cell_type": "code",
   "execution_count": 11,
   "id": "aa9bc3ee-815e-46b7-90ec-51acb0497cdd",
   "metadata": {},
   "outputs": [],
   "source": [
    "class CreditHistory(Fuzzy):\n",
    "    def __init__(self):\n",
    "        self.min = 0\n",
    "        self.max = 10\n",
    "\n",
    "    def bad(self, x):\n",
    "        if x < self.min:\n",
    "            return 1\n",
    "        if x > self.max:\n",
    "            return 0\n",
    "        return self.down(x)\n",
    "\n",
    "    def good(self, x):\n",
    "        if x < self.min:\n",
    "            return 0\n",
    "        if x > self.max:\n",
    "            return 1\n",
    "        return self.up(x)\n",
    "\n",
    "    def excellent(self, x):\n",
    "        if x < self.min:\n",
    "            return 0\n",
    "        if x > self.max:\n",
    "            return 1\n",
    "        return self.up(x)"
   ]
  },
  {
   "cell_type": "code",
   "execution_count": 12,
   "id": "0df38888-68b8-4fe6-ab5f-813b471a54d0",
   "metadata": {},
   "outputs": [],
   "source": [
    "class CreditEligibility(Fuzzy):\n",
    "    def __init__(self):\n",
    "        self.min = 0\n",
    "        self.max = 100\n",
    "\n",
    "    def not_eligible(self, fuzzy_value):\n",
    "        return self.rev_down(fuzzy_value)\n",
    "\n",
    "    def eligible(self, fuzzy_value):\n",
    "        return self.rev_up(fuzzy_value)"
   ]
  },
  {
   "cell_type": "code",
   "execution_count": 13,
   "id": "9f1ae337-e475-4468-b08a-7e7f4516a583",
   "metadata": {},
   "outputs": [],
   "source": [
    "# Aturan fuzzy\n",
    "rule_mapping = {\n",
    "    (\"low\", \"high\", \"bad\"): \"not_eligible\",\n",
    "    (\"low\", \"medium\", \"good\"): \"not_eligible\",\n",
    "    (\"medium\", \"low\", \"good\"): \"eligible\",\n",
    "    (\"high\", \"low\", \"excellent\"): \"eligible\",\n",
    "    (\"high\", \"medium\", \"good\"): \"eligible\",\n",
    "}\n",
    "\n",
    "# Input data\n",
    "income_value = 4000\n",
    "debt_value = 2000\n",
    "credit_history_value = 7"
   ]
  },
  {
   "cell_type": "code",
   "execution_count": 14,
   "id": "2fec6bd0-2615-45ff-b668-c33184f11e17",
   "metadata": {},
   "outputs": [],
   "source": [
    "# Inisialisasi objek\n",
    "income = Income()\n",
    "debt = Debt()\n",
    "credit_history = CreditHistory()\n",
    "credit_eligibility = CreditEligibility()\n",
    "\n",
    "total_value = 0\n",
    "total_fuzzy = 0\n",
    "\n",
    "for k, v in rule_mapping.items():\n",
    "    fuzzy_income = getattr(income, k[0])(income_value)\n",
    "    fuzzy_debt = getattr(debt, k[1])(debt_value)\n",
    "    fuzzy_credit_history = getattr(credit_history, k[2])(credit_history_value)\n",
    "\n",
    "    fuzzy_prod = min(fuzzy_income, fuzzy_debt, fuzzy_credit_history)\n",
    "    eligibility_value = getattr(credit_eligibility, v)(fuzzy_prod)\n",
    "\n",
    "    total_value += fuzzy_prod * eligibility_value\n",
    "    total_fuzzy += fuzzy_prod"
   ]
  },
  {
   "cell_type": "code",
   "execution_count": 16,
   "id": "f41fcca8-5452-4658-8099-c0695c30a2be",
   "metadata": {},
   "outputs": [
    {
     "name": "stdout",
     "output_type": "stream",
     "text": [
      "Jadi, kelayakan kredit adalah 45% (0: Tidak Layak, 100: Sangat Layak).\n"
     ]
    }
   ],
   "source": [
    "# Hasil akhir\n",
    "result = int(total_value / total_fuzzy) if total_fuzzy > 0 else 0\n",
    "print(f\"Jadi, kelayakan kredit adalah {result}% (0: Tidak Layak, 100: Sangat Layak).\")"
   ]
  },
  {
   "cell_type": "code",
   "execution_count": null,
   "id": "927ce4e0-0d2b-40c9-88ba-3527c928a158",
   "metadata": {},
   "outputs": [],
   "source": []
  }
 ],
 "metadata": {
  "kernelspec": {
   "display_name": "Python 3 (ipykernel)",
   "language": "python",
   "name": "python3"
  },
  "language_info": {
   "codemirror_mode": {
    "name": "ipython",
    "version": 3
   },
   "file_extension": ".py",
   "mimetype": "text/x-python",
   "name": "python",
   "nbconvert_exporter": "python",
   "pygments_lexer": "ipython3",
   "version": "3.13.0"
  }
 },
 "nbformat": 4,
 "nbformat_minor": 5
}
