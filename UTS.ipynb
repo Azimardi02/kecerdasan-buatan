{
 "cells": [
  {
   "cell_type": "code",
   "execution_count": 1,
   "id": "a67e0f48-fe50-4595-bf4c-3e8df87f4fad",
   "metadata": {},
   "outputs": [],
   "source": [
    "# Data\n",
    "\n",
    "company_detail_list = [\n",
    "      {\n",
    "          'name': 'Company 1',\n",
    "          'domain': 'Retail',\n",
    "          'country': 'United States'\n",
    "      },\n",
    "      {\n",
    "          'name': 'Company 2',\n",
    "          'domain': 'Technology',\n",
    "          'country': 'United Kingdom'\n",
    "      },\n",
    "      {\n",
    "          'name': 'Company 3',\n",
    "          'domain': 'Healthcare',\n",
    "          'country': 'United States'\n",
    "      }\n",
    "  ]\n",
    "employee_detail_list = [\n",
    "     {\n",
    "          'name': 'EMP-0001',\n",
    "          'first_name': 'John',\n",
    "          'last_name': 'Doe',\n",
    "          'full_name': 'John Doe',\n",
    "          'company': 'Company 1',\n",
    "          'nationality': 'Australia'\n",
    "      },\n",
    "      {\n",
    "          'name': 'EMP-0002',\n",
    "          'first_name': 'Tom',\n",
    "          'last_name': 'Smith',\n",
    "          'full_name': 'Tom Smith',\n",
    "          'company': 'Company 2',\n",
    "          'nationality': 'United States'\n",
    "      },\n",
    "      {\n",
    "          'name': 'EMP-0003',\n",
    "          'first_name': 'Andrew',\n",
    "          'last_name': 'Sebastian',\n",
    "          'full_name': 'Andrew Sebastian',\n",
    "          'company': 'Company 3',\n",
    "          'nationality': 'United States'\n",
    "      },\n",
    "      {\n",
    "          'name': 'EMP-0005',\n",
    "          'first_name': 'Ying Han',\n",
    "          'last_name': 'Tan',\n",
    "          'full_name': 'Ying Han Tan',\n",
    "          'company': 'Company 1',\n",
    "          'nationality': 'Australia'\n",
    "      },\n",
    "     {\n",
    "          'name': 'EMP-0015',\n",
    "          'first_name': 'Kenneth',\n",
    "          'last_name': 'Ng',\n",
    "          'full_name': 'Kenneth Ng',\n",
    "          'company': 'Company 3',\n",
    "          'nationality': 'United States'\n",
    "      },\n",
    "      {\n",
    "          'name': 'EMP-0018',\n",
    "          'first_name': 'Rubby',\n",
    "          'last_name': 'Lee',\n",
    "          'full_name': 'Rubby Lee',\n",
    "          'company': 'Company 2',\n",
    "          'nationality': 'Hong Kong'\n",
    "      },\n",
    "     {\n",
    "          'name': 'EMP-0017',\n",
    "          'first_name': 'Robert',\n",
    "          'last_name': 'White',\n",
    "          'full_name': 'Robert White',\n",
    "          'company': 'Company 1',\n",
    "          'nationality': 'United Kingdom'\n",
    "      }\n",
    "  ]"
   ]
  },
  {
   "cell_type": "code",
   "execution_count": 3,
   "id": "9c0bb2aa-bb9b-4947-a941-aed7135afe56",
   "metadata": {},
   "outputs": [
    {
     "name": "stdout",
     "output_type": "stream",
     "text": [
      "[{'name': 'Company 3'}, {'name': 'Company 2'}, {'name': 'Company 1'}]\n"
     ]
    }
   ],
   "source": [
    "# Mendapatkan nama semua perusahaan\n",
    "sorted_companies = sorted(company_detail_list, key=lambda x: x['name'], reverse=True)\n",
    "\n",
    "# Hanya menampilkan nama perusahaan\n",
    "result_task_1 = [{'name': company['name']} for company in sorted_companies]\n",
    "print(result_task_1)\n"
   ]
  },
  {
   "cell_type": "code",
   "execution_count": 4,
   "id": "5ca2ac8d-ea73-448d-af2e-6aa5a1123242",
   "metadata": {},
   "outputs": [
    {
     "name": "stdout",
     "output_type": "stream",
     "text": [
      "Company 1: Retail (United States)\n",
      "Company 2: Technology (United Kingdom)\n",
      "Company 3: Healthcare (United States)\n"
     ]
    }
   ],
   "source": [
    "# Menggunakan perulangan untuk mencetak domain dari setiap perusahaan\n",
    "for company in company_detail_list:\n",
    "    print(f\"{company['name']}: {company['domain']} ({company['country']})\")\n"
   ]
  },
  {
   "cell_type": "code",
   "execution_count": 5,
   "id": "4bb1118c-9e45-4147-9e17-ad9664ff76b3",
   "metadata": {},
   "outputs": [
    {
     "name": "stdout",
     "output_type": "stream",
     "text": [
      "{'Retail': ['John Doe', 'Ying Han Tan', 'Robert White'], 'Technology': ['Tom Smith', 'Rubby Lee'], 'Healthcare': ['Andrew Sebastian', 'Kenneth Ng']}\n"
     ]
    }
   ],
   "source": [
    "# Membuat dictionary untuk menyimpan domain sebagai kunci dan nama-nama karyawan sebagai nilai\n",
    "employees_by_domain = {}\n",
    "\n",
    "# Loop untuk mendapatkan domain perusahaan dan nama karyawan\n",
    "for company in company_detail_list:\n",
    "    domain = company['domain']\n",
    "    employees_by_domain[domain] = [employee['full_name'] for employee in employee_detail_list if employee['company'] == company['name']]\n",
    "\n",
    "print(employees_by_domain)\n"
   ]
  },
  {
   "cell_type": "code",
   "execution_count": 8,
   "id": "9bd761bb-2f8a-44c0-9a5d-599fc3bafddf",
   "metadata": {},
   "outputs": [
    {
     "name": "stdout",
     "output_type": "stream",
     "text": [
      "[{'full_name': 'John Doe', 'company': 'Company 1', 'country': 'United States'}, {'full_name': 'Tom Smith', 'company': 'Company 2', 'country': 'United Kingdom'}, {'full_name': 'Andrew Sebastian', 'company': 'Company 3', 'country': 'United States'}, {'full_name': 'Ying Han Tan', 'company': 'Company 1', 'country': 'United States'}, {'full_name': 'Kenneth Ng', 'company': 'Company 3', 'country': 'United States'}, {'full_name': 'Rubby Lee', 'company': 'Company 2', 'country': 'United Kingdom'}, {'full_name': 'Robert White', 'company': 'Company 1', 'country': 'United States'}]\n"
     ]
    }
   ],
   "source": [
    "def get_employees_with_company_country():\n",
    "    return [\n",
    "        {\n",
    "            'full_name': employee['full_name'],\n",
    "            'company': employee['company'],\n",
    "            'country': next(company['country'] for company in company_detail_list if company['name'] == employee['company'])\n",
    "        }\n",
    "        for employee in employee_detail_list\n",
    "    ]\n",
    "\n",
    "# Memanggil fungsi\n",
    "result_task_4 = get_employees_with_company_country()\n",
    "print(result_task_4)\n"
   ]
  },
  {
   "cell_type": "code",
   "execution_count": 7,
   "id": "bbb964c2-a18f-4e27-84bb-21375d3c966f",
   "metadata": {},
   "outputs": [
    {
     "name": "stdout",
     "output_type": "stream",
     "text": [
      "[{'company': 'Company 1', 'employee_nationality': {'Australia': 2, 'United Kingdom': 1}}, {'company': 'Company 2', 'employee_nationality': {'United States': 1, 'Hong Kong': 1}}, {'company': 'Company 3', 'employee_nationality': {'United States': 2}}]\n"
     ]
    }
   ],
   "source": [
    "def get_employee_nationality_count():\n",
    "    result = []\n",
    "    for company in company_detail_list:\n",
    "        nationality_count = {}\n",
    "        for employee in employee_detail_list:\n",
    "            if employee['company'] == company['name']:\n",
    "                nationality = employee['nationality']\n",
    "                if nationality in nationality_count:\n",
    "                    nationality_count[nationality] += 1\n",
    "                else:\n",
    "                    nationality_count[nationality] = 1\n",
    "        result.append({\n",
    "            'company': company['name'],\n",
    "            'employee_nationality': nationality_count\n",
    "        })\n",
    "    return result\n",
    "\n",
    "# Memanggil fungsi\n",
    "result_task_5 = get_employee_nationality_count()\n",
    "print(result_task_5)\n"
   ]
  }
 ],
 "metadata": {
  "kernelspec": {
   "display_name": "Python 3 (ipykernel)",
   "language": "python",
   "name": "python3"
  },
  "language_info": {
   "codemirror_mode": {
    "name": "ipython",
    "version": 3
   },
   "file_extension": ".py",
   "mimetype": "text/x-python",
   "name": "python",
   "nbconvert_exporter": "python",
   "pygments_lexer": "ipython3",
   "version": "3.13.0"
  }
 },
 "nbformat": 4,
 "nbformat_minor": 5
}
