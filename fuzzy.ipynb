{
 "cells": [
  {
   "cell_type": "code",
   "execution_count": 3,
   "id": "a0dc5fdb-7e13-40f3-b23e-7c4f6684ec5c",
   "metadata": {},
   "outputs": [],
   "source": [
    "class Fuzzy():\n",
    "\n",
    "    def __init__(self):\n",
    "        self.min = 0\n",
    "        self.max = 0\n",
    "\n",
    "    def down(self, x):\n",
    "        return (self.max - x) / (self.max - self.min)\n",
    "\n",
    "    def up(self, x):\n",
    "        return (x - self.min) / (self.max - self.min)\n",
    "\n",
    "    def rev_down(self, f):\n",
    "        return self.max - f * (self.max - self.min)\n",
    "\n",
    "    def rev_up(self, f):\n",
    "        return f * (self.max - self.min) + self.min\n",
    "# Down\n",
    "# f = (max - x) / (max - min)\n",
    "# f * (max - min) = max - x\n",
    "# f * (max - min) - max = -x\n",
    "# max - f * (max - min) = x\n",
    "# x = max - f * (max - min)\n",
    "\n",
    "# Up\n",
    "# f = (x - min) / (max - min)\n",
    "# f * (max - min) = x - min\n",
    "# f * (max - min) + min = x\n",
    "# x = f * (max - min) + min\n"
   ]
  },
  {
   "cell_type": "code",
   "execution_count": 4,
   "id": "680bef7c-fe12-4c88-b763-1119b156b0c4",
   "metadata": {},
   "outputs": [
    {
     "name": "stdout",
     "output_type": "stream",
     "text": [
      "Turun: 0.25\n",
      "Naik: 0.75\n"
     ]
    }
   ],
   "source": [
    "# Permintaan\n",
    "# himp Turun / Naik\n",
    "fis = Fuzzy()\n",
    "fis.min = 1000\n",
    "fis.max = 5000\n",
    "x = 4000\n",
    "# Turun\n",
    "turun = fis.down(x)\n",
    "print(f\"Turun: {turun}\")\n",
    "\n",
    "# Turun\n",
    "naik = fis.up(x)\n",
    "print(f\"Naik: {naik}\")"
   ]
  },
  {
   "cell_type": "code",
   "execution_count": 5,
   "id": "930f7ab8-cce8-45bd-8c51-99036a00fcd2",
   "metadata": {},
   "outputs": [
    {
     "name": "stdout",
     "output_type": "stream",
     "text": [
      "Sedikit: 0.6\n",
      "Banyak: 0.4\n"
     ]
    }
   ],
   "source": [
    "# Persediaan\n",
    "# himp Sedikit / Banyak\n",
    "fis = Fuzzy()\n",
    "fis.min = 100\n",
    "fis.max = 600\n",
    "x = 300\n",
    "\n",
    "# Sedikit\n",
    "sedikit = fis.down(x)\n",
    "print(f\"Sedikit: {sedikit}\")\n",
    "\n",
    "# Banyak\n",
    "banyak = fis.up(x)\n",
    "print(f\"Banyak: {banyak}\")"
   ]
  },
  {
   "cell_type": "code",
   "execution_count": 6,
   "id": "4bd97405-8c78-4d78-8fae-16840229b841",
   "metadata": {},
   "outputs": [
    {
     "name": "stdout",
     "output_type": "stream",
     "text": [
      "berkurang(0.25): 5750.0\n",
      "bertambah(0.4): 4000.0\n",
      "bertambah(0.6): 5000.0\n"
     ]
    }
   ],
   "source": [
    "# Berkurang 0.25 >> 5750\n",
    "# Bertambah 0.4 >> 4000\n",
    "# Bertambah 0.5 >> 5000\n",
    "\n",
    "fis = Fuzzy()\n",
    "fis.min = 2000\n",
    "fis.max = 7000\n",
    "\n",
    "# Berkurang\n",
    "f = 0.25\n",
    "berkurang = fis.rev_down(f)\n",
    "print(f\"berkurang({f}): {berkurang}\")\n",
    "\n",
    "# Bertambah\n",
    "f = 0.4\n",
    "bertambah = fis.rev_up(f)\n",
    "print(f\"bertambah({f}): {bertambah}\")\n",
    "\n",
    "f = 0.6\n",
    "bertambah = fis.rev_up(f)\n",
    "print(f\"bertambah({f}): {bertambah}\")"
   ]
  },
  {
   "cell_type": "code",
   "execution_count": null,
   "id": "aea173e9-7694-46c1-b80e-2b11bd6c1f1b",
   "metadata": {},
   "outputs": [],
   "source": [
    "# Permintaan = Demand\n",
    "# turun = decrease\n",
    "# naik = increase\n",
    "# Persediaan = Stock\n",
    "# sedikit = a_few\n",
    "# banyak = a_lot\n",
    "# Produksi = Production\n",
    "# berkurang = reduce\n",
    "# bertambah = add"
   ]
  },
  {
   "cell_type": "code",
   "execution_count": 8,
   "id": "f83e435d-d122-41a4-a7ad-02b2a4601058",
   "metadata": {},
   "outputs": [],
   "source": [
    "class Demand(Fuzzy):\n",
    "\n",
    "    def __init__(self):\n",
    "        self.min = 1000\n",
    "        self.max = 5000\n",
    "\n",
    "    def decrease(self, x):\n",
    "        if x < self.min:\n",
    "            return 1\n",
    "\n",
    "        if x > self.max:\n",
    "            return 0\n",
    "\n",
    "        return self.down(x)\n",
    "\n",
    "    def increase(self, x):\n",
    "        if x < self.min:\n",
    "            return 0\n",
    "\n",
    "        if x > self.max:\n",
    "            return 1\n",
    "            \n",
    "        return self.up(x)\n",
    "\n",
    "\n",
    "class Stock(Fuzzy):\n",
    "\n",
    "    def __init__(self):\n",
    "        self.min = 100\n",
    "        self.max = 600\n",
    "\n",
    "    def a_few(self, x):\n",
    "        if x < self.min:\n",
    "            return 1\n",
    "\n",
    "        if x > self.max:\n",
    "            return 0\n",
    "\n",
    "        return self.down(x)\n",
    "    def a_lot(self, x):\n",
    "        if x < self.min:\n",
    "            return 0\n",
    "\n",
    "        if x > self.max:\n",
    "            return 1\n",
    "            \n",
    "        return self.up(x)\n",
    "\n",
    "class Production(Fuzzy):\n",
    "\n",
    "    def __init__(self):\n",
    "        self.min = 2000\n",
    "        self.max = 7000\n",
    "\n",
    "    def reduce(self, fuzzy_value):\n",
    "        return self.rev_down(fuzzy_value)\n",
    "\n",
    "    def add(self, fuzzy_value):\n",
    "        return self.rev_up(fuzzy_value)"
   ]
  },
  {
   "cell_type": "code",
   "execution_count": 9,
   "id": "d2a39aa2-ea29-4e10-ba72-2ee889d0c7d5",
   "metadata": {},
   "outputs": [
    {
     "data": {
      "text/plain": [
       "1.0"
      ]
     },
     "execution_count": 9,
     "metadata": {},
     "output_type": "execute_result"
    }
   ],
   "source": [
    "pmt = Demand()\n",
    "pmt.increase(5000)"
   ]
  },
  {
   "cell_type": "code",
   "execution_count": 10,
   "id": "d7044797-d65e-4446-88a9-c07e2040ff5b",
   "metadata": {},
   "outputs": [
    {
     "data": {
      "text/plain": [
       "0.7"
      ]
     },
     "execution_count": 10,
     "metadata": {},
     "output_type": "execute_result"
    }
   ],
   "source": [
    "psd = Stock()\n",
    "psd.a_lot(450)"
   ]
  },
  {
   "cell_type": "code",
   "execution_count": 11,
   "id": "dc4daf62-3101-451d-92dc-cb1b44bd5d26",
   "metadata": {},
   "outputs": [
    {
     "data": {
      "text/plain": [
       "5000.0"
      ]
     },
     "execution_count": 11,
     "metadata": {},
     "output_type": "execute_result"
    }
   ],
   "source": [
    "prod = Production()\n",
    "prod.add(0.6)"
   ]
  },
  {
   "cell_type": "code",
   "execution_count": 12,
   "id": "527c16a6-d2ef-4beb-85d4-2e215432a9b8",
   "metadata": {},
   "outputs": [],
   "source": [
    "rule_mapping = {\n",
    "    (\"decrease\", \"a_lot\"): \"reduce\",\n",
    "    (\"decrease\", \"a_few\"): \"reduce\",\n",
    "    (\"increase\", \"a_lot\"): \"add\",\n",
    "    (\"increase\", \"a_few\"): \"add\",\n",
    "}"
   ]
  },
  {
   "cell_type": "code",
   "execution_count": 13,
   "id": "f993dbae-36ff-478b-9b6a-e10d07f51e6b",
   "metadata": {},
   "outputs": [
    {
     "name": "stdout",
     "output_type": "stream",
     "text": [
      "Jadi, jumlah makanan jenis ABC yang harus diproduksi sebanyak 4983 kemasan.\n"
     ]
    }
   ],
   "source": [
    "total_value = 0\n",
    "total_fuzzy = 0\n",
    "for k, v in rule_mapping.items():\n",
    "    # print(f\"{k[0]=}, {k[1]=}\")\n",
    "    # print(f\"{v=}\")\n",
    "    demand = Demand()\n",
    "    stock = Stock()\n",
    "    demand_value = 4000\n",
    "    stock_value = 300\n",
    "\n",
    "    fuzzy_demand = demand.decrease(demand_value) if k[0] == \"decrease\" else demand.increase(demand_value)\n",
    "    fuzzy_stock = stock.a_few(stock_value) if k[1] == \"a_few\" else stock.a_lot(stock_value)\n",
    "\n",
    "    prod = Production()\n",
    "    fuzzy_prod = min(fuzzy_demand, fuzzy_stock)\n",
    "    prod_value = prod.reduce(fuzzy_prod) if v == \"reduce\" else prod.add(fuzzy_prod)\n",
    "\n",
    "    total_value += fuzzy_prod * prod_value\n",
    "    total_fuzzy += fuzzy_prod\n",
    "\n",
    "result = int(total_value/ total_fuzzy)\n",
    "result\n",
    "print(f\"Jadi, jumlah makanan jenis ABC yang harus diproduksi sebanyak {result} kemasan.\")"
   ]
  },
  {
   "cell_type": "code",
   "execution_count": null,
   "id": "4a34cdbe-fa51-4a13-8aaa-870e11c68637",
   "metadata": {},
   "outputs": [],
   "source": []
  },
  {
   "cell_type": "code",
   "execution_count": null,
   "id": "3e7d49f5-cebf-47da-87da-ba1996386e1a",
   "metadata": {},
   "outputs": [],
   "source": []
  }
 ],
 "metadata": {
  "kernelspec": {
   "display_name": "Python 3 (ipykernel)",
   "language": "python",
   "name": "python3"
  },
  "language_info": {
   "codemirror_mode": {
    "name": "ipython",
    "version": 3
   },
   "file_extension": ".py",
   "mimetype": "text/x-python",
   "name": "python",
   "nbconvert_exporter": "python",
   "pygments_lexer": "ipython3",
   "version": "3.13.0"
  }
 },
 "nbformat": 4,
 "nbformat_minor": 5
}
